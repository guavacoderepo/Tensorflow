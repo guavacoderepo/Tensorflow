{
 "cells": [
  {
   "attachments": {},
   "cell_type": "markdown",
   "metadata": {},
   "source": [
    "## Create a vector, scalar, matrix and tensor with values of your choosing using tf.constant()."
   ]
  },
  {
   "cell_type": "code",
   "execution_count": 1,
   "metadata": {},
   "outputs": [
    {
     "name": "stderr",
     "output_type": "stream",
     "text": [
      "2023-06-10 17:46:16.877027: I tensorflow/core/platform/cpu_feature_guard.cc:193] This TensorFlow binary is optimized with oneAPI Deep Neural Network Library (oneDNN) to use the following CPU instructions in performance-critical operations:  AVX2 FMA\n",
      "To enable them in other operations, rebuild TensorFlow with the appropriate compiler flags.\n"
     ]
    }
   ],
   "source": [
    "# import tensorflow\n",
    "import tensorflow as tf"
   ]
  },
  {
   "cell_type": "code",
   "execution_count": 3,
   "metadata": {},
   "outputs": [
    {
     "data": {
      "text/plain": [
       "(<tf.Tensor: shape=(), dtype=int32, numpy=7>,\n",
       " <tf.Tensor: shape=(2,), dtype=int32, numpy=array([3, 2], dtype=int32)>,\n",
       " <tf.Tensor: shape=(2, 2), dtype=int32, numpy=\n",
       " array([[3, 4],\n",
       "        [5, 1]], dtype=int32)>,\n",
       " <tf.Tensor: shape=(3, 2, 3), dtype=int32, numpy=\n",
       " array([[[3, 4, 8],\n",
       "         [5, 8, 3]],\n",
       " \n",
       "        [[4, 7, 8],\n",
       "         [8, 9, 0]],\n",
       " \n",
       "        [[5, 2, 4],\n",
       "         [8, 8, 0]]], dtype=int32)>)"
      ]
     },
     "execution_count": 3,
     "metadata": {},
     "output_type": "execute_result"
    }
   ],
   "source": [
    "# scaler \n",
    "scaler = tf.constant(7)\n",
    "\n",
    "# vector\n",
    "vector = tf.constant([3,2])\n",
    "\n",
    "# matrix\n",
    "matrix = tf.constant([[3,4],[5,1]])\n",
    "\n",
    "# tensor\n",
    "tensor = tf.constant([[[3,4,8],[5,8,3]],[[4,7,8],[8,9,0,]],[[5,2,4],[8,8,0]]])\n",
    "\n",
    "scaler,vector,matrix,tensor"
   ]
  },
  {
   "attachments": {},
   "cell_type": "markdown",
   "metadata": {},
   "source": [
    "## Find the shape, rank and size of the tensors you created in 1."
   ]
  },
  {
   "cell_type": "code",
   "execution_count": 6,
   "metadata": {},
   "outputs": [
    {
     "data": {
      "text/plain": [
       "<tf.Tensor: shape=(), dtype=int32, numpy=2>"
      ]
     },
     "execution_count": 6,
     "metadata": {},
     "output_type": "execute_result"
    }
   ],
   "source": [
    "# shape of tensors\n",
    "tf.rank(tensor)\n",
    "tf.rank(vector)\n",
    "tf.rank(matrix)"
   ]
  },
  {
   "attachments": {},
   "cell_type": "markdown",
   "metadata": {},
   "source": [
    "## Create two tensors containing random values between 0 and 1 with shape [5, 300]."
   ]
  }
 ],
 "metadata": {
  "kernelspec": {
   "display_name": "Python 3",
   "language": "python",
   "name": "python3"
  },
  "language_info": {
   "codemirror_mode": {
    "name": "ipython",
    "version": 3
   },
   "file_extension": ".py",
   "mimetype": "text/x-python",
   "name": "python",
   "nbconvert_exporter": "python",
   "pygments_lexer": "ipython3",
   "version": "3.10.8"
  },
  "orig_nbformat": 4
 },
 "nbformat": 4,
 "nbformat_minor": 2
}
