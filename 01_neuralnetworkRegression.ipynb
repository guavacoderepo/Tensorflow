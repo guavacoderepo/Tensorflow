{
 "cells": [
  {
   "attachments": {},
   "cell_type": "markdown",
   "metadata": {},
   "source": [
    "# Introduction to regression"
   ]
  },
  {
   "cell_type": "code",
   "execution_count": 1,
   "metadata": {},
   "outputs": [
    {
     "name": "stderr",
     "output_type": "stream",
     "text": [
      "2023-06-12 18:09:19.984879: I tensorflow/core/platform/cpu_feature_guard.cc:193] This TensorFlow binary is optimized with oneAPI Deep Neural Network Library (oneDNN) to use the following CPU instructions in performance-critical operations:  AVX2 FMA\n",
      "To enable them in other operations, rebuild TensorFlow with the appropriate compiler flags.\n"
     ]
    },
    {
     "name": "stdout",
     "output_type": "stream",
     "text": [
      "2.11.0\n"
     ]
    }
   ],
   "source": [
    "# import tensorflow\n",
    "import tensorflow as tf \n",
    "\n",
    "print(tf.__version__)"
   ]
  },
  {
   "cell_type": "code",
   "execution_count": 3,
   "metadata": {},
   "outputs": [],
   "source": [
    "# import matplotlip and numpy\n",
    "import matplotlib.pyplot as plt\n",
    "import numpy as np\n"
   ]
  },
  {
   "cell_type": "code",
   "execution_count": 96,
   "metadata": {},
   "outputs": [],
   "source": [
    "# create some test data\n",
    "x = np.array([-0.9, -0.6, -0.3, 0, 0.3, 0.6, 0.9])\n",
    "y = np.array([2, 4, 6, 8, 10, 12, 13])"
   ]
  },
  {
   "cell_type": "code",
   "execution_count": 97,
   "metadata": {},
   "outputs": [
    {
     "data": {
      "text/plain": [
       "<matplotlib.collections.PathCollection at 0x1592c6050>"
      ]
     },
     "execution_count": 97,
     "metadata": {},
     "output_type": "execute_result"
    },
    {
     "data": {
      "image/png": "[encoded data removed]",
      "text/plain": [
       "<Figure size 640x480 with 1 Axes>"
      ]
     },
     "metadata": {},
     "output_type": "display_data"
    }
   ],
   "source": [
    "# visualize our data\n",
    "\n",
    "plt.scatter(x,y)"
   ]
  },
  {
   "cell_type": "code",
   "execution_count": 100,
   "metadata": {},
   "outputs": [
    {
     "data": {
      "text/plain": [
       "array([False, False, False, False, False, False, False])"
      ]
     },
     "execution_count": 100,
     "metadata": {},
     "output_type": "execute_result"
    }
   ],
   "source": [
    "y == x + 2\n"
   ]
  },
  {
   "cell_type": "code",
   "execution_count": 101,
   "metadata": {},
   "outputs": [
    {
     "data": {
      "text/plain": [
       "(-0.9, 2)"
      ]
     },
     "execution_count": 101,
     "metadata": {},
     "output_type": "execute_result"
    }
   ],
   "source": [
    "# input and output shapes\n",
    "x_shape = x.shape\n",
    "y_shape = y.shape\n",
    "\n",
    "x_shape, y_shape\n",
    "\n",
    "x[0], y[0]\n",
    "\n"
   ]
  },
  {
   "cell_type": "code",
   "execution_count": 102,
   "metadata": {},
   "outputs": [
    {
     "data": {
      "text/plain": [
       "(TensorShape([]), TensorShape([]))"
      ]
     },
     "execution_count": 102,
     "metadata": {},
     "output_type": "execute_result"
    }
   ],
   "source": [
    "# convert out numpy to tensors\n",
    "x = tf.cast(tf.constant(x), dtype=tf.float32)\n",
    "y = tf.cast(tf.constant(y), dtype=tf.float32)\n",
    "\n",
    "\n",
    "x[0].shape,y[0].shape"
   ]
  },
  {
   "attachments": {},
   "cell_type": "markdown",
   "metadata": {},
   "source": [
    "## Steps in modeling with tensorflow\n",
    "\n",
    "1. create a model - define the input and output layers aswell as hideeen layers of the DL model\n",
    "2. Compile the model - define the loos function (the function that tells our model how wrongit it is), the optimizer (tell how model how to improve the pattern it is learning) and eveluation metrix (what we can use to interprete he performance of our model)\n",
    "3. fitting a model - letting the model try to find patterns btw x and y (features and labels)"
   ]
  },
  {
   "cell_type": "code",
   "execution_count": 148,
   "metadata": {},
   "outputs": [
    {
     "name": "stdout",
     "output_type": "stream",
     "text": [
      "Epoch 1/50\n",
      "1/1 [==============================] - 1s 892ms/step - loss: 7.8571 - mae: 7.8571\n",
      "Epoch 2/50\n",
      "1/1 [==============================] - 0s 10ms/step - loss: 5.4018 - mae: 5.4018\n",
      "Epoch 3/50\n",
      "1/1 [==============================] - 0s 13ms/step - loss: 3.0650 - mae: 3.0650\n",
      "Epoch 4/50\n",
      "1/1 [==============================] - 0s 13ms/step - loss: 0.7957 - mae: 0.7957\n",
      "Epoch 5/50\n",
      "1/1 [==============================] - 0s 18ms/step - loss: 1.4560 - mae: 1.4560\n",
      "Epoch 6/50\n",
      "1/1 [==============================] - 0s 37ms/step - loss: 0.8911 - mae: 0.8911\n",
      "Epoch 7/50\n",
      "1/1 [==============================] - 0s 70ms/step - loss: 0.3739 - mae: 0.3739\n",
      "Epoch 8/50\n",
      "1/1 [==============================] - 0s 28ms/step - loss: 2.1462 - mae: 2.1462\n",
      "Epoch 9/50\n",
      "1/1 [==============================] - 0s 16ms/step - loss: 0.6712 - mae: 0.6712\n",
      "Epoch 10/50\n",
      "1/1 [==============================] - 0s 25ms/step - loss: 2.5822 - mae: 2.5822\n",
      "Epoch 11/50\n",
      "1/1 [==============================] - 0s 23ms/step - loss: 3.3700 - mae: 3.3700\n",
      "Epoch 12/50\n",
      "1/1 [==============================] - 0s 25ms/step - loss: 2.6871 - mae: 2.6871\n",
      "Epoch 13/50\n",
      "1/1 [==============================] - 0s 23ms/step - loss: 0.8150 - mae: 0.8150\n",
      "Epoch 14/50\n",
      "1/1 [==============================] - 0s 12ms/step - loss: 2.3969 - mae: 2.3969\n",
      "Epoch 15/50\n",
      "1/1 [==============================] - 0s 8ms/step - loss: 3.2902 - mae: 3.2902\n",
      "Epoch 16/50\n",
      "1/1 [==============================] - 0s 37ms/step - loss: 2.3838 - mae: 2.3838\n",
      "Epoch 17/50\n",
      "1/1 [==============================] - 0s 21ms/step - loss: 1.0116 - mae: 1.0116\n",
      "Epoch 18/50\n",
      "1/1 [==============================] - 0s 17ms/step - loss: 1.8941 - mae: 1.8941\n",
      "Epoch 19/50\n",
      "1/1 [==============================] - 0s 8ms/step - loss: 2.1749 - mae: 2.1749\n",
      "Epoch 20/50\n",
      "1/1 [==============================] - 0s 9ms/step - loss: 1.8255 - mae: 1.8255\n",
      "Epoch 21/50\n",
      "1/1 [==============================] - 0s 17ms/step - loss: 1.3510 - mae: 1.3510\n",
      "Epoch 22/50\n",
      "1/1 [==============================] - 0s 31ms/step - loss: 1.7476 - mae: 1.7476\n",
      "Epoch 23/50\n",
      "1/1 [==============================] - 0s 19ms/step - loss: 1.7846 - mae: 1.7846\n",
      "Epoch 24/50\n",
      "1/1 [==============================] - 0s 11ms/step - loss: 0.4603 - mae: 0.4603\n",
      "Epoch 25/50\n",
      "1/1 [==============================] - 0s 13ms/step - loss: 1.5868 - mae: 1.5868\n",
      "Epoch 26/50\n",
      "1/1 [==============================] - 0s 7ms/step - loss: 2.2214 - mae: 2.2214\n",
      "Epoch 27/50\n",
      "1/1 [==============================] - 0s 17ms/step - loss: 1.7609 - mae: 1.7609\n",
      "Epoch 28/50\n",
      "1/1 [==============================] - 0s 16ms/step - loss: 1.0614 - mae: 1.0614\n",
      "Epoch 29/50\n",
      "1/1 [==============================] - 0s 15ms/step - loss: 1.2379 - mae: 1.2379\n",
      "Epoch 30/50\n",
      "1/1 [==============================] - 0s 23ms/step - loss: 1.4713 - mae: 1.4713\n",
      "Epoch 31/50\n",
      "1/1 [==============================] - 0s 19ms/step - loss: 0.6792 - mae: 0.6792\n",
      "Epoch 32/50\n",
      "1/1 [==============================] - 0s 11ms/step - loss: 1.3857 - mae: 1.3857\n",
      "Epoch 33/50\n",
      "1/1 [==============================] - 0s 18ms/step - loss: 1.6867 - mae: 1.6867\n",
      "Epoch 34/50\n",
      "1/1 [==============================] - 0s 20ms/step - loss: 1.4132 - mae: 1.4132\n",
      "Epoch 35/50\n",
      "1/1 [==============================] - 0s 57ms/step - loss: 0.5502 - mae: 0.5502\n",
      "Epoch 36/50\n",
      "1/1 [==============================] - 0s 15ms/step - loss: 1.0565 - mae: 1.0565\n",
      "Epoch 37/50\n",
      "1/1 [==============================] - 0s 9ms/step - loss: 1.5288 - mae: 1.5288\n",
      "Epoch 38/50\n",
      "1/1 [==============================] - 0s 17ms/step - loss: 0.9009 - mae: 0.9009\n",
      "Epoch 39/50\n",
      "1/1 [==============================] - 0s 6ms/step - loss: 0.5265 - mae: 0.5265\n",
      "Epoch 40/50\n",
      "1/1 [==============================] - 0s 27ms/step - loss: 0.9404 - mae: 0.9404\n",
      "Epoch 41/50\n",
      "1/1 [==============================] - 0s 12ms/step - loss: 0.6872 - mae: 0.6872\n",
      "Epoch 42/50\n",
      "1/1 [==============================] - 0s 11ms/step - loss: 0.2875 - mae: 0.2875\n",
      "Epoch 43/50\n",
      "1/1 [==============================] - 0s 18ms/step - loss: 0.7282 - mae: 0.7282\n",
      "Epoch 44/50\n",
      "1/1 [==============================] - 0s 7ms/step - loss: 0.6304 - mae: 0.6304\n",
      "Epoch 45/50\n",
      "1/1 [==============================] - 0s 7ms/step - loss: 0.3644 - mae: 0.3644\n",
      "Epoch 46/50\n",
      "1/1 [==============================] - 0s 5ms/step - loss: 0.5261 - mae: 0.5261\n",
      "Epoch 47/50\n",
      "1/1 [==============================] - 0s 9ms/step - loss: 0.4823 - mae: 0.4823\n",
      "Epoch 48/50\n",
      "1/1 [==============================] - 0s 22ms/step - loss: 0.6575 - mae: 0.6575\n",
      "Epoch 49/50\n",
      "1/1 [==============================] - 0s 23ms/step - loss: 0.1904 - mae: 0.1904\n",
      "Epoch 50/50\n",
      "1/1 [==============================] - 0s 24ms/step - loss: 0.8035 - mae: 0.8035\n"
     ]
    },
    {
     "data": {
      "text/plain": [
       "<keras.callbacks.History at 0x15be6a4a0>"
      ]
     },
     "execution_count": 148,
     "metadata": {},
     "output_type": "execute_result"
    }
   ],
   "source": [
    "tf.random.set_seed(42)\n",
    "\n",
    "# step one - create a model\n",
    "model = tf.keras.Sequential([\n",
    "    tf.keras.layers.Dense(100, activation=None),\n",
    "    tf.keras.layers.Dense(1)\n",
    "])\n",
    "\n",
    "\n",
    "# Step two - compile the model\n",
    "model.compile(\n",
    "    loss= tf.keras.losses.mae,\n",
    "    optimizer=tf.keras.optimizers.Adam(learning_rate=0.2),\n",
    "    metrics=[\"mae\"]\n",
    "\n",
    ")\n",
    "\n",
    "model.fit(tf.expand_dims(x, axis=-1),y, epochs=50)\n",
    "\n"
   ]
  },
  {
   "cell_type": "code",
   "execution_count": 113,
   "metadata": {},
   "outputs": [
    {
     "data": {
      "text/plain": [
       "(<tf.Tensor: shape=(7,), dtype=float32, numpy=array([-0.9, -0.6, -0.3,  0. ,  0.3,  0.6,  0.9], dtype=float32)>,\n",
       " <tf.Tensor: shape=(7,), dtype=float32, numpy=array([ 2.,  4.,  6.,  8., 10., 12., 13.], dtype=float32)>)"
      ]
     },
     "execution_count": 113,
     "metadata": {},
     "output_type": "execute_result"
    }
   ],
   "source": [
    "x,y"
   ]
  },
  {
   "cell_type": "code",
   "execution_count": 150,
   "metadata": {},
   "outputs": [
    {
     "name": "stdout",
     "output_type": "stream",
     "text": [
      "1/1 [==============================] - 0s 68ms/step\n"
     ]
    },
    {
     "data": {
      "text/plain": [
       "array([[14.940978]], dtype=float32)"
      ]
     },
     "execution_count": 150,
     "metadata": {},
     "output_type": "execute_result"
    }
   ],
   "source": [
    "# predict y value from x value\n",
    "\n",
    "y_pred = model.predict([1.2])\n",
    "y_pred"
   ]
  },
  {
   "cell_type": "code",
   "execution_count": 44,
   "metadata": {},
   "outputs": [
    {
     "data": {
      "text/plain": [
       "array([[25.852879]], dtype=float32)"
      ]
     },
     "execution_count": 44,
     "metadata": {},
     "output_type": "execute_result"
    }
   ],
   "source": [
    "y_pred + 9.7"
   ]
  },
  {
   "attachments": {},
   "cell_type": "markdown",
   "metadata": {},
   "source": [
    "# Let's try a bigger dataset"
   ]
  },
  {
   "cell_type": "code",
   "execution_count": 155,
   "metadata": {},
   "outputs": [
    {
     "data": {
      "text/plain": [
       "(<tf.Tensor: shape=(67,), dtype=int32, numpy=\n",
       " array([-100,  -97,  -94,  -91,  -88,  -85,  -82,  -79,  -76,  -73,  -70,\n",
       "         -67,  -64,  -61,  -58,  -55,  -52,  -49,  -46,  -43,  -40,  -37,\n",
       "         -34,  -31,  -28,  -25,  -22,  -19,  -16,  -13,  -10,   -7,   -4,\n",
       "          -1,    2,    5,    8,   11,   14,   17,   20,   23,   26,   29,\n",
       "          32,   35,   38,   41,   44,   47,   50,   53,   56,   59,   62,\n",
       "          65,   68,   71,   74,   77,   80,   83,   86,   89,   92,   95,\n",
       "          98], dtype=int32)>,\n",
       " <tf.Tensor: shape=(67,), dtype=int32, numpy=\n",
       " array([-95, -92, -89, -86, -83, -80, -77, -74, -71, -68, -65, -62, -59,\n",
       "        -56, -53, -50, -47, -44, -41, -38, -35, -32, -29, -26, -23, -20,\n",
       "        -17, -14, -11,  -8,  -5,  -2,   1,   4,   7,  10,  13,  16,  19,\n",
       "         22,  25,  28,  31,  34,  37,  40,  43,  46,  49,  52,  55,  58,\n",
       "         61,  64,  67,  70,  73,  76,  79,  82,  85,  88,  91,  94,  97,\n",
       "        100, 103], dtype=int32)>)"
      ]
     },
     "execution_count": 155,
     "metadata": {},
     "output_type": "execute_result"
    }
   ],
   "source": [
    "x = tf.range(-100, 101, 3)\n",
    "x\n",
    "\n",
    "y = x + 5\n",
    "x,y"
   ]
  },
  {
   "cell_type": "code",
   "execution_count": 158,
   "metadata": {},
   "outputs": [
    {
     "data": {
      "text/plain": [
       "<matplotlib.collections.PathCollection at 0x15c5bc8e0>"
      ]
     },
     "execution_count": 158,
     "metadata": {},
     "output_type": "execute_result"
    },
    {
     "data": {
      "image/png": "[encoded data removed]",
      "text/plain": [
       "<Figure size 640x480 with 1 Axes>"
      ]
     },
     "metadata": {},
     "output_type": "display_data"
    }
   ],
   "source": [
    "plt.scatter(x,y)"
   ]
  },
  {
   "cell_type": "code",
   "execution_count": 159,
   "metadata": {},
   "outputs": [
    {
     "data": {
      "text/plain": [
       "<tf.Tensor: shape=(50,), dtype=int32, numpy=\n",
       "array([-100,  -97,  -94,  -91,  -88,  -85,  -82,  -79,  -76,  -73,  -70,\n",
       "        -67,  -64,  -61,  -58,  -55,  -52,  -49,  -46,  -43,  -40,  -37,\n",
       "        -34,  -31,  -28,  -25,  -22,  -19,  -16,  -13,  -10,   -7,   -4,\n",
       "         -1,    2,    5,    8,   11,   14,   17,   20,   23,   26,   29,\n",
       "         32,   35,   38,   41,   44,   47], dtype=int32)>"
      ]
     },
     "execution_count": 159,
     "metadata": {},
     "output_type": "execute_result"
    }
   ],
   "source": [
    "x_train =x[:50]\n",
    "x_train"
   ]
  }
 ],
 "metadata": {
  "kernelspec": {
   "display_name": "Python 3",
   "language": "python",
   "name": "python3"
  },
  "language_info": {
   "codemirror_mode": {
    "name": "ipython",
    "version": 3
   },
   "file_extension": ".py",
   "mimetype": "text/x-python",
   "name": "python",
   "nbconvert_exporter": "python",
   "pygments_lexer": "ipython3",
   "version": "3.10.8"
  },
  "orig_nbformat": 4
 },
 "nbformat": 4,
 "nbformat_minor": 2
}
