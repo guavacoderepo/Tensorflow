{
 "cells": [
  {
   "attachments": {},
   "cell_type": "markdown",
   "metadata": {},
   "source": [
    "# Introduction to regression"
   ]
  },
  {
   "cell_type": "code",
   "execution_count": 1,
   "metadata": {},
   "outputs": [
    {
     "name": "stderr",
     "output_type": "stream",
     "text": [
      "2023-06-12 18:09:19.984879: I tensorflow/core/platform/cpu_feature_guard.cc:193] This TensorFlow binary is optimized with oneAPI Deep Neural Network Library (oneDNN) to use the following CPU instructions in performance-critical operations:  AVX2 FMA\n",
      "To enable them in other operations, rebuild TensorFlow with the appropriate compiler flags.\n"
     ]
    },
    {
     "name": "stdout",
     "output_type": "stream",
     "text": [
      "2.11.0\n"
     ]
    }
   ],
   "source": [
    "# import tensorflow\n",
    "import tensorflow as tf \n",
    "\n",
    "print(tf.__version__)"
   ]
  },
  {
   "cell_type": "code",
   "execution_count": 3,
   "metadata": {},
   "outputs": [],
   "source": [
    "# import matplotlip and numpy\n",
    "import matplotlib.pyplot as plt\n",
    "import numpy as np\n"
   ]
  },
  {
   "cell_type": "code",
   "execution_count": 96,
   "metadata": {},
   "outputs": [],
   "source": [
    "# create some test data\n",
    "x = np.array([-0.9, -0.6, -0.3, 0, 0.3, 0.6, 0.9])\n",
    "y = np.array([2, 4, 6, 8, 10, 12, 13])"
   ]
  },
  {
   "cell_type": "code",
   "execution_count": 97,
   "metadata": {},
   "outputs": [
    {
     "data": {
      "text/plain": [
       "<matplotlib.collections.PathCollection at 0x1592c6050>"
      ]
     },
     "execution_count": 97,
     "metadata": {},
     "output_type": "execute_result"
    },
    {
     "data": {
      "image/png": "[encoded data removed]",
      "text/plain": [
       "<Figure size 640x480 with 1 Axes>"
      ]
     },
     "metadata": {},
     "output_type": "display_data"
    }
   ],
   "source": [
    "# visualize our data\n",
    "\n",
    "plt.scatter(x,y)"
   ]
  },
  {
   "cell_type": "code",
   "execution_count": 100,
   "metadata": {},
   "outputs": [
    {
     "data": {
      "text/plain": [
       "array([False, False, False, False, False, False, False])"
      ]
     },
     "execution_count": 100,
     "metadata": {},
     "output_type": "execute_result"
    }
   ],
   "source": [
    "y == x + 2\n"
   ]
  },
  {
   "cell_type": "code",
   "execution_count": 101,
   "metadata": {},
   "outputs": [
    {
     "data": {
      "text/plain": [
       "(-0.9, 2)"
      ]
     },
     "execution_count": 101,
     "metadata": {},
     "output_type": "execute_result"
    }
   ],
   "source": [
    "# input and output shapes\n",
    "x_shape = x.shape\n",
    "y_shape = y.shape\n",
    "\n",
    "x_shape, y_shape\n",
    "\n",
    "x[0], y[0]\n",
    "\n"
   ]
  },
  {
   "cell_type": "code",
   "execution_count": 102,
   "metadata": {},
   "outputs": [
    {
     "data": {
      "text/plain": [
       "(TensorShape([]), TensorShape([]))"
      ]
     },
     "execution_count": 102,
     "metadata": {},
     "output_type": "execute_result"
    }
   ],
   "source": [
    "# convert out numpy to tensors\n",
    "x = tf.cast(tf.constant(x), dtype=tf.float32)\n",
    "y = tf.cast(tf.constant(y), dtype=tf.float32)\n",
    "\n",
    "\n",
    "x[0].shape,y[0].shape"
   ]
  },
  {
   "attachments": {},
   "cell_type": "markdown",
   "metadata": {},
   "source": [
    "## Steps in modeling with tensorflow\n",
    "\n",
    "1. create a model - define the input and output layers aswell as hideeen layers of the DL model\n",
    "2. Compile the model - define the loos function (the function that tells our model how wrongit it is), the optimizer (tell how model how to improve the pattern it is learning) and eveluation metrix (what we can use to interprete he performance of our model)\n",
    "3. fitting a model - letting the model try to find patterns btw x and y (features and labels)"
   ]
  },
  {
   "cell_type": "code",
   "execution_count": null,
   "metadata": {},
   "outputs": [],
   "source": [
    "tf.random.set_seed(42)\n",
    "\n",
    "# step one - create a model\n",
    "model = tf.keras.Sequential([\n",
    "    tf.keras.layers.Dense(100, activation=None),\n",
    "    tf.keras.layers.Dense(1)\n",
    "])\n",
    "\n",
    "\n",
    "# Step two - compile the model\n",
    "model.compile(\n",
    "    loss= tf.keras.losses.mae,\n",
    "    optimizer=tf.keras.optimizers.Adam(learning_rate=0.2),\n",
    "    metrics=[\"mae\"]\n",
    "\n",
    ")\n",
    "\n",
    "model.fit(tf.expand_dims(x, axis=-1),y, epochs=50)\n",
    "\n"
   ]
  },
  {
   "cell_type": "code",
   "execution_count": 113,
   "metadata": {},
   "outputs": [
    {
     "data": {
      "text/plain": [
       "(<tf.Tensor: shape=(7,), dtype=float32, numpy=array([-0.9, -0.6, -0.3,  0. ,  0.3,  0.6,  0.9], dtype=float32)>,\n",
       " <tf.Tensor: shape=(7,), dtype=float32, numpy=array([ 2.,  4.,  6.,  8., 10., 12., 13.], dtype=float32)>)"
      ]
     },
     "execution_count": 113,
     "metadata": {},
     "output_type": "execute_result"
    }
   ],
   "source": [
    "x,y"
   ]
  },
  {
   "cell_type": "code",
   "execution_count": 150,
   "metadata": {},
   "outputs": [
    {
     "name": "stdout",
     "output_type": "stream",
     "text": [
      "1/1 [==============================] - 0s 68ms/step\n"
     ]
    },
    {
     "data": {
      "text/plain": [
       "array([[14.940978]], dtype=float32)"
      ]
     },
     "execution_count": 150,
     "metadata": {},
     "output_type": "execute_result"
    }
   ],
   "source": [
    "# predict y value from x value\n",
    "\n",
    "y_pred = model.predict([1.2])\n",
    "y_pred"
   ]
  },
  {
   "cell_type": "code",
   "execution_count": 44,
   "metadata": {},
   "outputs": [
    {
     "data": {
      "text/plain": [
       "array([[25.852879]], dtype=float32)"
      ]
     },
     "execution_count": 44,
     "metadata": {},
     "output_type": "execute_result"
    }
   ],
   "source": [
    "y_pred + 9.7"
   ]
  },
  {
   "attachments": {},
   "cell_type": "markdown",
   "metadata": {},
   "source": [
    "# Let's try a bigger dataset"
   ]
  },
  {
   "cell_type": "code",
   "execution_count": 155,
   "metadata": {},
   "outputs": [
    {
     "data": {
      "text/plain": [
       "(<tf.Tensor: shape=(67,), dtype=int32, numpy=\n",
       " array([-100,  -97,  -94,  -91,  -88,  -85,  -82,  -79,  -76,  -73,  -70,\n",
       "         -67,  -64,  -61,  -58,  -55,  -52,  -49,  -46,  -43,  -40,  -37,\n",
       "         -34,  -31,  -28,  -25,  -22,  -19,  -16,  -13,  -10,   -7,   -4,\n",
       "          -1,    2,    5,    8,   11,   14,   17,   20,   23,   26,   29,\n",
       "          32,   35,   38,   41,   44,   47,   50,   53,   56,   59,   62,\n",
       "          65,   68,   71,   74,   77,   80,   83,   86,   89,   92,   95,\n",
       "          98], dtype=int32)>,\n",
       " <tf.Tensor: shape=(67,), dtype=int32, numpy=\n",
       " array([-95, -92, -89, -86, -83, -80, -77, -74, -71, -68, -65, -62, -59,\n",
       "        -56, -53, -50, -47, -44, -41, -38, -35, -32, -29, -26, -23, -20,\n",
       "        -17, -14, -11,  -8,  -5,  -2,   1,   4,   7,  10,  13,  16,  19,\n",
       "         22,  25,  28,  31,  34,  37,  40,  43,  46,  49,  52,  55,  58,\n",
       "         61,  64,  67,  70,  73,  76,  79,  82,  85,  88,  91,  94,  97,\n",
       "        100, 103], dtype=int32)>)"
      ]
     },
     "execution_count": 155,
     "metadata": {},
     "output_type": "execute_result"
    }
   ],
   "source": [
    "x = tf.range(-100, 101, 3)\n",
    "x\n",
    "\n",
    "y = x + 5\n",
    "x,y"
   ]
  },
  {
   "cell_type": "code",
   "execution_count": 158,
   "metadata": {},
   "outputs": [
    {
     "data": {
      "text/plain": [
       "<matplotlib.collections.PathCollection at 0x15c5bc8e0>"
      ]
     },
     "execution_count": 158,
     "metadata": {},
     "output_type": "execute_result"
    },
    {
     "data": {
      "image/png": "[encoded data removed]",
      "text/plain": [
       "<Figure size 640x480 with 1 Axes>"
      ]
     },
     "metadata": {},
     "output_type": "display_data"
    }
   ],
   "source": [
    "plt.scatter(x,y)"
   ]
  },
  {
   "cell_type": "code",
   "execution_count": 178,
   "metadata": {},
   "outputs": [
    {
     "data": {
      "text/plain": [
       "17"
      ]
     },
     "execution_count": 178,
     "metadata": {},
     "output_type": "execute_result"
    }
   ],
   "source": [
    "def ratio(size, percent):\n",
    "    return round((percent/100)*size)\n",
    "\n",
    "ratio(67,25)"
   ]
  },
  {
   "cell_type": "code",
   "execution_count": 182,
   "metadata": {},
   "outputs": [
    {
     "data": {
      "text/plain": [
       "(<tf.Tensor: shape=(50,), dtype=int32, numpy=\n",
       " array([-100,  -97,  -94,  -91,  -88,  -85,  -82,  -79,  -76,  -73,  -70,\n",
       "         -67,  -64,  -61,  -58,  -55,  -52,  -49,  -46,  -43,  -40,  -37,\n",
       "         -34,  -31,  -28,  -25,  -22,  -19,  -16,  -13,  -10,   -7,   -4,\n",
       "          -1,    2,    5,    8,   11,   14,   17,   20,   23,   26,   29,\n",
       "          32,   35,   38,   41,   44,   47], dtype=int32)>,\n",
       " <tf.Tensor: shape=(17,), dtype=int32, numpy=\n",
       " array([50, 53, 56, 59, 62, 65, 68, 71, 74, 77, 80, 83, 86, 89, 92, 95, 98],\n",
       "       dtype=int32)>)"
      ]
     },
     "execution_count": 182,
     "metadata": {},
     "output_type": "execute_result"
    }
   ],
   "source": [
    "x_train = x[:ratio(67, 75)]\n",
    "x_test = x[ratio(67, 75):]\n",
    "x_train, x_test"
   ]
  },
  {
   "cell_type": "code",
   "execution_count": 183,
   "metadata": {},
   "outputs": [
    {
     "data": {
      "text/plain": [
       "(<tf.Tensor: shape=(50,), dtype=int32, numpy=\n",
       " array([-95, -92, -89, -86, -83, -80, -77, -74, -71, -68, -65, -62, -59,\n",
       "        -56, -53, -50, -47, -44, -41, -38, -35, -32, -29, -26, -23, -20,\n",
       "        -17, -14, -11,  -8,  -5,  -2,   1,   4,   7,  10,  13,  16,  19,\n",
       "         22,  25,  28,  31,  34,  37,  40,  43,  46,  49,  52], dtype=int32)>,\n",
       " <tf.Tensor: shape=(17,), dtype=int32, numpy=\n",
       " array([ 55,  58,  61,  64,  67,  70,  73,  76,  79,  82,  85,  88,  91,\n",
       "         94,  97, 100, 103], dtype=int32)>)"
      ]
     },
     "execution_count": 183,
     "metadata": {},
     "output_type": "execute_result"
    }
   ],
   "source": [
    "y_train = y[:ratio(67,75)]\n",
    "y_test = y[ratio(67,75):]\n",
    "\n",
    "y_train, y_test"
   ]
  },
  {
   "cell_type": "code",
   "execution_count": 211,
   "metadata": {},
   "outputs": [
    {
     "data": {
      "text/plain": [
       "<keras.callbacks.History at 0x15e5b1390>"
      ]
     },
     "execution_count": 211,
     "metadata": {},
     "output_type": "execute_result"
    }
   ],
   "source": [
    "# train my model using the trainig the dataset\n",
    "\n",
    "model = tf.keras.Sequential([\n",
    "    tf.keras.layers.Dense(1)\n",
    "\n",
    "])\n",
    "\n",
    "model.compile(\n",
    "    loss=tf.keras.losses.mae,\n",
    "    optimizer=tf.keras.optimizers.SGD(),\n",
    "    metrics=\"mae\"\n",
    ")\n",
    "\n",
    "model.fit(tf.expand_dims(x_train, axis=-1), y_train, epochs=10, verbose=False)"
   ]
  },
  {
   "cell_type": "code",
   "execution_count": 212,
   "metadata": {},
   "outputs": [
    {
     "name": "stdout",
     "output_type": "stream",
     "text": [
      "1/1 [==============================] - 0s 94ms/step\n"
     ]
    },
    {
     "data": {
      "text/plain": [
       "(<tf.Tensor: shape=(17,), dtype=float32, numpy=\n",
       " array([ 54.216885,  57.46543 ,  60.713978,  63.96252 ,  67.211075,\n",
       "         70.45962 ,  73.70817 ,  76.95671 ,  80.20526 ,  83.453804,\n",
       "         86.70235 ,  89.9509  ,  93.19944 ,  96.44799 ,  99.69653 ,\n",
       "        102.94508 , 106.19363 ], dtype=float32)>,\n",
       " <tf.Tensor: shape=(17,), dtype=int32, numpy=\n",
       " array([ 55,  58,  61,  64,  67,  70,  73,  76,  79,  82,  85,  88,  91,\n",
       "         94,  97, 100, 103], dtype=int32)>)"
      ]
     },
     "execution_count": 212,
     "metadata": {},
     "output_type": "execute_result"
    }
   ],
   "source": [
    "y_pred_2 = model.predict(x_test)\n",
    "\n",
    "tf.squeeze(y_pred_2), y_test\n"
   ]
  },
  {
   "cell_type": "code",
   "execution_count": 215,
   "metadata": {},
   "outputs": [
    {
     "data": {
      "text/plain": [
       "<matplotlib.collections.PathCollection at 0x15e7aa110>"
      ]
     },
     "execution_count": 215,
     "metadata": {},
     "output_type": "execute_result"
    },
    {
     "data": {
      "image/png": "[encoded data removed]",
      "text/plain": [
       "<Figure size 640x480 with 1 Axes>"
      ]
     },
     "metadata": {},
     "output_type": "display_data"
    }
   ],
   "source": [
    "plt.scatter(x_test, y_pred_2, c=\"r\")\n",
    "# plt.scatter(x_train, y_train, c=\"g\")\n",
    "plt.scatter(x_test, y_test, c=\"b\")\n"
   ]
  }
 ],
 "metadata": {
  "kernelspec": {
   "display_name": "Python 3",
   "language": "python",
   "name": "python3"
  },
  "language_info": {
   "codemirror_mode": {
    "name": "ipython",
    "version": 3
   },
   "file_extension": ".py",
   "mimetype": "text/x-python",
   "name": "python",
   "nbconvert_exporter": "python",
   "pygments_lexer": "ipython3",
   "version": "3.10.8"
  },
  "orig_nbformat": 4
 },
 "nbformat": 4,
 "nbformat_minor": 2
}
